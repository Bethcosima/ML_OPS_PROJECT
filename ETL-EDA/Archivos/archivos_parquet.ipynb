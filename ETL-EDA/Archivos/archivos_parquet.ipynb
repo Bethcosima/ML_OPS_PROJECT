{
 "cells": [
  {
   "cell_type": "code",
   "execution_count": 1,
   "metadata": {},
   "outputs": [],
   "source": [
    "#Este archivo es para convertir de json a parquet, \n",
    "#esto facilitará el uso en github y ahorrar espacio\n",
    "\n",
    "import pandas as pd\n",
    "import pyarrow as pa \n",
    "import pyarrow.parquet as pq\n",
    "import json\n",
    "import ast \n",
    "import os \n"
   ]
  },
  {
   "cell_type": "code",
   "execution_count": 2,
   "metadata": {},
   "outputs": [],
   "source": [
    "#abrimos los archivos json\n",
    "lis = []\n",
    "\n",
    "with open('output_steam_games.json', 'r', encoding= 'utf-8') as f: \n",
    "    for line in f.readlines():\n",
    "        lis.append(json.loads(line))\n",
    "\n",
    "df_games= pd.DataFrame(lis)"
   ]
  },
  {
   "cell_type": "code",
   "execution_count": 3,
   "metadata": {},
   "outputs": [],
   "source": [
    "lis = []\n",
    "\n",
    "with open('australian_users_items.json', 'r', encoding= 'utf-8') as f: \n",
    "    for line in f.readlines():\n",
    "        lis.append(ast.literal_eval(line))\n",
    "\n",
    "df_items= pd.DataFrame(lis)\n"
   ]
  },
  {
   "cell_type": "code",
   "execution_count": 4,
   "metadata": {},
   "outputs": [],
   "source": [
    "lis = []\n",
    "\n",
    "with open('australian_user_reviews.json', 'r', encoding= 'utf-8') as f: \n",
    "    for line in f.readlines():\n",
    "        lis.append(ast.literal_eval(line))\n",
    "\n",
    "df_reviews= pd.DataFrame(lis)"
   ]
  },
  {
   "cell_type": "code",
   "execution_count": 5,
   "metadata": {},
   "outputs": [],
   "source": [
    "#la columna price la convertimos a tipo str para poder mandarlos a parquet\n",
    "df_games['price'] = df_games['price'].astype(str)\n",
    "\n",
    "df_games.to_parquet('output_steam_games.parquet')\n",
    "\n",
    "df_items.to_parquet('australian_users_items.parquet')\n",
    "df_reviews.to_parquet('australian_user_reviews.parquet')"
   ]
  },
  {
   "cell_type": "code",
   "execution_count": 6,
   "metadata": {},
   "outputs": [],
   "source": [
    "#eliminamos los archivos originales\n",
    "os.remove('output_steam_games.json')\n",
    "os.remove('australian_user_reviews.json')\n",
    "os.remove('australian_users_items.json')\n",
    "\n",
    "# eliminamos de memoria los DF\n",
    "del df_games\n",
    "del df_items\n",
    "del df_reviews"
   ]
  }
 ],
 "metadata": {
  "kernelspec": {
   "display_name": "Python 3",
   "language": "python",
   "name": "python3"
  },
  "language_info": {
   "codemirror_mode": {
    "name": "ipython",
    "version": 3
   },
   "file_extension": ".py",
   "mimetype": "text/x-python",
   "name": "python",
   "nbconvert_exporter": "python",
   "pygments_lexer": "ipython3",
   "version": "3.11.2"
  }
 },
 "nbformat": 4,
 "nbformat_minor": 2
}

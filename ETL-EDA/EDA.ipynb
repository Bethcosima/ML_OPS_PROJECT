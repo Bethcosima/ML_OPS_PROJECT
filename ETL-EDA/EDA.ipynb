{
 "cells": [
  {
   "cell_type": "markdown",
   "metadata": {},
   "source": [
    "### Análisis Exploratorio de Datos (EDA)\n",
    "Una vez generado el ETL de los dataset se procede a realizar un análisis exploratorio de datos para cada uno de estos"
   ]
  },
  {
   "cell_type": "markdown",
   "metadata": {},
   "source": [
    "Importamos las librerías necesarias"
   ]
  },
  {
   "cell_type": "code",
   "execution_count": 1,
   "metadata": {},
   "outputs": [],
   "source": [
    "import pandas as pd \n",
    "import matplotlib.pyplot as plt \n",
    "import seaborn as sns"
   ]
  },
  {
   "cell_type": "markdown",
   "metadata": {},
   "source": [
    "steam_parque.parquet "
   ]
  },
  {
   "cell_type": "code",
   "execution_count": 7,
   "metadata": {},
   "outputs": [
    {
     "data": {
      "text/html": [
       "<div>\n",
       "<style scoped>\n",
       "    .dataframe tbody tr th:only-of-type {\n",
       "        vertical-align: middle;\n",
       "    }\n",
       "\n",
       "    .dataframe tbody tr th {\n",
       "        vertical-align: top;\n",
       "    }\n",
       "\n",
       "    .dataframe thead th {\n",
       "        text-align: right;\n",
       "    }\n",
       "</style>\n",
       "<table border=\"1\" class=\"dataframe\">\n",
       "  <thead>\n",
       "    <tr style=\"text-align: right;\">\n",
       "      <th></th>\n",
       "      <th>genres</th>\n",
       "      <th>url</th>\n",
       "      <th>release_date</th>\n",
       "      <th>tags</th>\n",
       "      <th>reviews_url</th>\n",
       "      <th>specs</th>\n",
       "      <th>price</th>\n",
       "      <th>early_access</th>\n",
       "      <th>id</th>\n",
       "      <th>Año</th>\n",
       "      <th>publisher</th>\n",
       "      <th>app_name</th>\n",
       "      <th>title</th>\n",
       "      <th>developer</th>\n",
       "    </tr>\n",
       "  </thead>\n",
       "  <tbody>\n",
       "    <tr>\n",
       "      <th>0</th>\n",
       "      <td>Action</td>\n",
       "      <td>http://store.steampowered.com/app/761140/Lost_...</td>\n",
       "      <td>2018-01-04</td>\n",
       "      <td>['Strategy' 'Action' 'Indie' 'Casual' 'Simulat...</td>\n",
       "      <td>http://steamcommunity.com/app/761140/reviews/?...</td>\n",
       "      <td>['Single-player']</td>\n",
       "      <td>4.99</td>\n",
       "      <td>False</td>\n",
       "      <td>761140</td>\n",
       "      <td>2018</td>\n",
       "      <td>Kotoshiro</td>\n",
       "      <td>Lost Summoner Kitty</td>\n",
       "      <td>Lost Summoner Kitty</td>\n",
       "      <td>Kotoshiro</td>\n",
       "    </tr>\n",
       "    <tr>\n",
       "      <th>1</th>\n",
       "      <td>Casual</td>\n",
       "      <td>http://store.steampowered.com/app/761140/Lost_...</td>\n",
       "      <td>2018-01-04</td>\n",
       "      <td>['Strategy' 'Action' 'Indie' 'Casual' 'Simulat...</td>\n",
       "      <td>http://steamcommunity.com/app/761140/reviews/?...</td>\n",
       "      <td>['Single-player']</td>\n",
       "      <td>4.99</td>\n",
       "      <td>False</td>\n",
       "      <td>761140</td>\n",
       "      <td>2018</td>\n",
       "      <td>Kotoshiro</td>\n",
       "      <td>Lost Summoner Kitty</td>\n",
       "      <td>Lost Summoner Kitty</td>\n",
       "      <td>Kotoshiro</td>\n",
       "    </tr>\n",
       "    <tr>\n",
       "      <th>2</th>\n",
       "      <td>Indie</td>\n",
       "      <td>http://store.steampowered.com/app/761140/Lost_...</td>\n",
       "      <td>2018-01-04</td>\n",
       "      <td>['Strategy' 'Action' 'Indie' 'Casual' 'Simulat...</td>\n",
       "      <td>http://steamcommunity.com/app/761140/reviews/?...</td>\n",
       "      <td>['Single-player']</td>\n",
       "      <td>4.99</td>\n",
       "      <td>False</td>\n",
       "      <td>761140</td>\n",
       "      <td>2018</td>\n",
       "      <td>Kotoshiro</td>\n",
       "      <td>Lost Summoner Kitty</td>\n",
       "      <td>Lost Summoner Kitty</td>\n",
       "      <td>Kotoshiro</td>\n",
       "    </tr>\n",
       "    <tr>\n",
       "      <th>3</th>\n",
       "      <td>Simulation</td>\n",
       "      <td>http://store.steampowered.com/app/761140/Lost_...</td>\n",
       "      <td>2018-01-04</td>\n",
       "      <td>['Strategy' 'Action' 'Indie' 'Casual' 'Simulat...</td>\n",
       "      <td>http://steamcommunity.com/app/761140/reviews/?...</td>\n",
       "      <td>['Single-player']</td>\n",
       "      <td>4.99</td>\n",
       "      <td>False</td>\n",
       "      <td>761140</td>\n",
       "      <td>2018</td>\n",
       "      <td>Kotoshiro</td>\n",
       "      <td>Lost Summoner Kitty</td>\n",
       "      <td>Lost Summoner Kitty</td>\n",
       "      <td>Kotoshiro</td>\n",
       "    </tr>\n",
       "    <tr>\n",
       "      <th>4</th>\n",
       "      <td>Strategy</td>\n",
       "      <td>http://store.steampowered.com/app/761140/Lost_...</td>\n",
       "      <td>2018-01-04</td>\n",
       "      <td>['Strategy' 'Action' 'Indie' 'Casual' 'Simulat...</td>\n",
       "      <td>http://steamcommunity.com/app/761140/reviews/?...</td>\n",
       "      <td>['Single-player']</td>\n",
       "      <td>4.99</td>\n",
       "      <td>False</td>\n",
       "      <td>761140</td>\n",
       "      <td>2018</td>\n",
       "      <td>Kotoshiro</td>\n",
       "      <td>Lost Summoner Kitty</td>\n",
       "      <td>Lost Summoner Kitty</td>\n",
       "      <td>Kotoshiro</td>\n",
       "    </tr>\n",
       "    <tr>\n",
       "      <th>...</th>\n",
       "      <td>...</td>\n",
       "      <td>...</td>\n",
       "      <td>...</td>\n",
       "      <td>...</td>\n",
       "      <td>...</td>\n",
       "      <td>...</td>\n",
       "      <td>...</td>\n",
       "      <td>...</td>\n",
       "      <td>...</td>\n",
       "      <td>...</td>\n",
       "      <td>...</td>\n",
       "      <td>...</td>\n",
       "      <td>...</td>\n",
       "      <td>...</td>\n",
       "    </tr>\n",
       "    <tr>\n",
       "      <th>71546</th>\n",
       "      <td>Indie</td>\n",
       "      <td>http://store.steampowered.com/app/610660/Russi...</td>\n",
       "      <td>2018-01-04</td>\n",
       "      <td>['Indie' 'Simulation' 'Racing']</td>\n",
       "      <td>http://steamcommunity.com/app/610660/reviews/?...</td>\n",
       "      <td>['Single-player' 'Steam Achievements' 'Steam T...</td>\n",
       "      <td>1.99</td>\n",
       "      <td>False</td>\n",
       "      <td>610660</td>\n",
       "      <td>2018</td>\n",
       "      <td>Laush Studio</td>\n",
       "      <td>Russian Roads</td>\n",
       "      <td>Russian Roads</td>\n",
       "      <td>Laush Dmitriy Sergeevich</td>\n",
       "    </tr>\n",
       "    <tr>\n",
       "      <th>71547</th>\n",
       "      <td>Racing</td>\n",
       "      <td>http://store.steampowered.com/app/610660/Russi...</td>\n",
       "      <td>2018-01-04</td>\n",
       "      <td>['Indie' 'Simulation' 'Racing']</td>\n",
       "      <td>http://steamcommunity.com/app/610660/reviews/?...</td>\n",
       "      <td>['Single-player' 'Steam Achievements' 'Steam T...</td>\n",
       "      <td>1.99</td>\n",
       "      <td>False</td>\n",
       "      <td>610660</td>\n",
       "      <td>2018</td>\n",
       "      <td>Laush Studio</td>\n",
       "      <td>Russian Roads</td>\n",
       "      <td>Russian Roads</td>\n",
       "      <td>Laush Dmitriy Sergeevich</td>\n",
       "    </tr>\n",
       "    <tr>\n",
       "      <th>71548</th>\n",
       "      <td>Simulation</td>\n",
       "      <td>http://store.steampowered.com/app/610660/Russi...</td>\n",
       "      <td>2018-01-04</td>\n",
       "      <td>['Indie' 'Simulation' 'Racing']</td>\n",
       "      <td>http://steamcommunity.com/app/610660/reviews/?...</td>\n",
       "      <td>['Single-player' 'Steam Achievements' 'Steam T...</td>\n",
       "      <td>1.99</td>\n",
       "      <td>False</td>\n",
       "      <td>610660</td>\n",
       "      <td>2018</td>\n",
       "      <td>Laush Studio</td>\n",
       "      <td>Russian Roads</td>\n",
       "      <td>Russian Roads</td>\n",
       "      <td>Laush Dmitriy Sergeevich</td>\n",
       "    </tr>\n",
       "    <tr>\n",
       "      <th>71549</th>\n",
       "      <td>Casual</td>\n",
       "      <td>http://store.steampowered.com/app/658870/EXIT_...</td>\n",
       "      <td>2017-09-02</td>\n",
       "      <td>['Indie' 'Casual' 'Puzzle' 'Singleplayer' 'Atm...</td>\n",
       "      <td>http://steamcommunity.com/app/658870/reviews/?...</td>\n",
       "      <td>['Single-player' 'Steam Achievements' 'Steam C...</td>\n",
       "      <td>4.99</td>\n",
       "      <td>False</td>\n",
       "      <td>658870</td>\n",
       "      <td>2017</td>\n",
       "      <td>SIXNAILS</td>\n",
       "      <td>EXIT 2 - Directions</td>\n",
       "      <td>EXIT 2 - Directions</td>\n",
       "      <td>xropi,stev3ns</td>\n",
       "    </tr>\n",
       "    <tr>\n",
       "      <th>71550</th>\n",
       "      <td>Indie</td>\n",
       "      <td>http://store.steampowered.com/app/658870/EXIT_...</td>\n",
       "      <td>2017-09-02</td>\n",
       "      <td>['Indie' 'Casual' 'Puzzle' 'Singleplayer' 'Atm...</td>\n",
       "      <td>http://steamcommunity.com/app/658870/reviews/?...</td>\n",
       "      <td>['Single-player' 'Steam Achievements' 'Steam C...</td>\n",
       "      <td>4.99</td>\n",
       "      <td>False</td>\n",
       "      <td>658870</td>\n",
       "      <td>2017</td>\n",
       "      <td>SIXNAILS</td>\n",
       "      <td>EXIT 2 - Directions</td>\n",
       "      <td>EXIT 2 - Directions</td>\n",
       "      <td>xropi,stev3ns</td>\n",
       "    </tr>\n",
       "  </tbody>\n",
       "</table>\n",
       "<p>71551 rows × 14 columns</p>\n",
       "</div>"
      ],
      "text/plain": [
       "           genres                                                url  \\\n",
       "0          Action  http://store.steampowered.com/app/761140/Lost_...   \n",
       "1          Casual  http://store.steampowered.com/app/761140/Lost_...   \n",
       "2           Indie  http://store.steampowered.com/app/761140/Lost_...   \n",
       "3      Simulation  http://store.steampowered.com/app/761140/Lost_...   \n",
       "4        Strategy  http://store.steampowered.com/app/761140/Lost_...   \n",
       "...           ...                                                ...   \n",
       "71546       Indie  http://store.steampowered.com/app/610660/Russi...   \n",
       "71547      Racing  http://store.steampowered.com/app/610660/Russi...   \n",
       "71548  Simulation  http://store.steampowered.com/app/610660/Russi...   \n",
       "71549      Casual  http://store.steampowered.com/app/658870/EXIT_...   \n",
       "71550       Indie  http://store.steampowered.com/app/658870/EXIT_...   \n",
       "\n",
       "      release_date                                               tags  \\\n",
       "0       2018-01-04  ['Strategy' 'Action' 'Indie' 'Casual' 'Simulat...   \n",
       "1       2018-01-04  ['Strategy' 'Action' 'Indie' 'Casual' 'Simulat...   \n",
       "2       2018-01-04  ['Strategy' 'Action' 'Indie' 'Casual' 'Simulat...   \n",
       "3       2018-01-04  ['Strategy' 'Action' 'Indie' 'Casual' 'Simulat...   \n",
       "4       2018-01-04  ['Strategy' 'Action' 'Indie' 'Casual' 'Simulat...   \n",
       "...            ...                                                ...   \n",
       "71546   2018-01-04                    ['Indie' 'Simulation' 'Racing']   \n",
       "71547   2018-01-04                    ['Indie' 'Simulation' 'Racing']   \n",
       "71548   2018-01-04                    ['Indie' 'Simulation' 'Racing']   \n",
       "71549   2017-09-02  ['Indie' 'Casual' 'Puzzle' 'Singleplayer' 'Atm...   \n",
       "71550   2017-09-02  ['Indie' 'Casual' 'Puzzle' 'Singleplayer' 'Atm...   \n",
       "\n",
       "                                             reviews_url  \\\n",
       "0      http://steamcommunity.com/app/761140/reviews/?...   \n",
       "1      http://steamcommunity.com/app/761140/reviews/?...   \n",
       "2      http://steamcommunity.com/app/761140/reviews/?...   \n",
       "3      http://steamcommunity.com/app/761140/reviews/?...   \n",
       "4      http://steamcommunity.com/app/761140/reviews/?...   \n",
       "...                                                  ...   \n",
       "71546  http://steamcommunity.com/app/610660/reviews/?...   \n",
       "71547  http://steamcommunity.com/app/610660/reviews/?...   \n",
       "71548  http://steamcommunity.com/app/610660/reviews/?...   \n",
       "71549  http://steamcommunity.com/app/658870/reviews/?...   \n",
       "71550  http://steamcommunity.com/app/658870/reviews/?...   \n",
       "\n",
       "                                                   specs  price  early_access  \\\n",
       "0                                      ['Single-player']   4.99         False   \n",
       "1                                      ['Single-player']   4.99         False   \n",
       "2                                      ['Single-player']   4.99         False   \n",
       "3                                      ['Single-player']   4.99         False   \n",
       "4                                      ['Single-player']   4.99         False   \n",
       "...                                                  ...    ...           ...   \n",
       "71546  ['Single-player' 'Steam Achievements' 'Steam T...   1.99         False   \n",
       "71547  ['Single-player' 'Steam Achievements' 'Steam T...   1.99         False   \n",
       "71548  ['Single-player' 'Steam Achievements' 'Steam T...   1.99         False   \n",
       "71549  ['Single-player' 'Steam Achievements' 'Steam C...   4.99         False   \n",
       "71550  ['Single-player' 'Steam Achievements' 'Steam C...   4.99         False   \n",
       "\n",
       "           id   Año     publisher             app_name                title  \\\n",
       "0      761140  2018     Kotoshiro  Lost Summoner Kitty  Lost Summoner Kitty   \n",
       "1      761140  2018     Kotoshiro  Lost Summoner Kitty  Lost Summoner Kitty   \n",
       "2      761140  2018     Kotoshiro  Lost Summoner Kitty  Lost Summoner Kitty   \n",
       "3      761140  2018     Kotoshiro  Lost Summoner Kitty  Lost Summoner Kitty   \n",
       "4      761140  2018     Kotoshiro  Lost Summoner Kitty  Lost Summoner Kitty   \n",
       "...       ...   ...           ...                  ...                  ...   \n",
       "71546  610660  2018  Laush Studio        Russian Roads        Russian Roads   \n",
       "71547  610660  2018  Laush Studio        Russian Roads        Russian Roads   \n",
       "71548  610660  2018  Laush Studio        Russian Roads        Russian Roads   \n",
       "71549  658870  2017      SIXNAILS  EXIT 2 - Directions  EXIT 2 - Directions   \n",
       "71550  658870  2017      SIXNAILS  EXIT 2 - Directions  EXIT 2 - Directions   \n",
       "\n",
       "                      developer  \n",
       "0                     Kotoshiro  \n",
       "1                     Kotoshiro  \n",
       "2                     Kotoshiro  \n",
       "3                     Kotoshiro  \n",
       "4                     Kotoshiro  \n",
       "...                         ...  \n",
       "71546  Laush Dmitriy Sergeevich  \n",
       "71547  Laush Dmitriy Sergeevich  \n",
       "71548  Laush Dmitriy Sergeevich  \n",
       "71549             xropi,stev3ns  \n",
       "71550             xropi,stev3ns  \n",
       "\n",
       "[71551 rows x 14 columns]"
      ]
     },
     "execution_count": 7,
     "metadata": {},
     "output_type": "execute_result"
    }
   ],
   "source": [
    "#extraemos los datos\n",
    "games = pd.read_parquet('Archivos/steam_parquet.parquet')\n",
    "games"
   ]
  },
  {
   "cell_type": "code",
   "execution_count": 8,
   "metadata": {},
   "outputs": [
    {
     "name": "stdout",
     "output_type": "stream",
     "text": [
      "<class 'pandas.core.frame.DataFrame'>\n",
      "RangeIndex: 71551 entries, 0 to 71550\n",
      "Data columns (total 14 columns):\n",
      " #   Column        Non-Null Count  Dtype  \n",
      "---  ------        --------------  -----  \n",
      " 0   genres        71551 non-null  object \n",
      " 1   url           71551 non-null  object \n",
      " 2   release_date  71498 non-null  object \n",
      " 3   tags          71505 non-null  object \n",
      " 4   reviews_url   71551 non-null  object \n",
      " 5   specs         70994 non-null  object \n",
      " 6   price         71551 non-null  float64\n",
      " 7   early_access  71551 non-null  bool   \n",
      " 8   id            71551 non-null  int64  \n",
      " 9   Año           71551 non-null  object \n",
      " 10  publisher     71504 non-null  object \n",
      " 11  app_name      71551 non-null  object \n",
      " 12  title         71551 non-null  object \n",
      " 13  developer     71551 non-null  object \n",
      "dtypes: bool(1), float64(1), int64(1), object(11)\n",
      "memory usage: 7.2+ MB\n"
     ]
    }
   ],
   "source": [
    "games.info()"
   ]
  },
  {
   "cell_type": "code",
   "execution_count": 9,
   "metadata": {},
   "outputs": [
    {
     "data": {
      "text/plain": [
       "genres            0\n",
       "url               0\n",
       "release_date     53\n",
       "tags             46\n",
       "reviews_url       0\n",
       "specs           557\n",
       "price             0\n",
       "early_access      0\n",
       "id                0\n",
       "Año               0\n",
       "publisher        47\n",
       "app_name          0\n",
       "title             0\n",
       "developer         0\n",
       "dtype: int64"
      ]
     },
     "execution_count": 9,
     "metadata": {},
     "output_type": "execute_result"
    }
   ],
   "source": [
    "# verificamos si se encuentran nulos\n",
    "games.isnull().sum()"
   ]
  },
  {
   "cell_type": "code",
   "execution_count": 10,
   "metadata": {},
   "outputs": [
    {
     "data": {
      "text/html": [
       "<div>\n",
       "<style scoped>\n",
       "    .dataframe tbody tr th:only-of-type {\n",
       "        vertical-align: middle;\n",
       "    }\n",
       "\n",
       "    .dataframe tbody tr th {\n",
       "        vertical-align: top;\n",
       "    }\n",
       "\n",
       "    .dataframe thead th {\n",
       "        text-align: right;\n",
       "    }\n",
       "</style>\n",
       "<table border=\"1\" class=\"dataframe\">\n",
       "  <thead>\n",
       "    <tr style=\"text-align: right;\">\n",
       "      <th></th>\n",
       "      <th>genres</th>\n",
       "      <th>release_date</th>\n",
       "      <th>price</th>\n",
       "      <th>early_access</th>\n",
       "      <th>id</th>\n",
       "      <th>Año</th>\n",
       "      <th>app_name</th>\n",
       "      <th>title</th>\n",
       "      <th>developer</th>\n",
       "    </tr>\n",
       "  </thead>\n",
       "  <tbody>\n",
       "    <tr>\n",
       "      <th>0</th>\n",
       "      <td>Action</td>\n",
       "      <td>2018-01-04</td>\n",
       "      <td>4.99</td>\n",
       "      <td>False</td>\n",
       "      <td>761140</td>\n",
       "      <td>2018</td>\n",
       "      <td>Lost Summoner Kitty</td>\n",
       "      <td>Lost Summoner Kitty</td>\n",
       "      <td>Kotoshiro</td>\n",
       "    </tr>\n",
       "  </tbody>\n",
       "</table>\n",
       "</div>"
      ],
      "text/plain": [
       "   genres release_date  price  early_access      id   Año  \\\n",
       "0  Action   2018-01-04   4.99         False  761140  2018   \n",
       "\n",
       "              app_name                title  developer  \n",
       "0  Lost Summoner Kitty  Lost Summoner Kitty  Kotoshiro  "
      ]
     },
     "execution_count": 10,
     "metadata": {},
     "output_type": "execute_result"
    }
   ],
   "source": [
    "# como las columnas en que se encuentran los datos nulos no son necesarias, entonces las eliminamos, aquí eliminamos publusher debido a que es igual que developer\n",
    "games.drop(columns=['specs', 'reviews_url','url', 'tags', 'publisher'], axis=1, inplace=True)\n",
    "games.head(1)"
   ]
  },
  {
   "cell_type": "code",
   "execution_count": 11,
   "metadata": {},
   "outputs": [
    {
     "data": {
      "text/plain": [
       "Index(['genres', 'release_date', 'price', 'early_access', 'item_id', 'Año',\n",
       "       'app_name', 'title', 'developer'],\n",
       "      dtype='object')"
      ]
     },
     "execution_count": 11,
     "metadata": {},
     "output_type": "execute_result"
    }
   ],
   "source": [
    "#modificamos el nombre de id para mejorar su comprensión \n",
    "games.rename(columns={'id':'item_id'}, inplace=True)\n",
    "games.columns"
   ]
  },
  {
   "cell_type": "markdown",
   "metadata": {},
   "source": [
    "Tratamos las variables categóricas"
   ]
  },
  {
   "cell_type": "code",
   "execution_count": 12,
   "metadata": {},
   "outputs": [
    {
     "data": {
      "text/plain": [
       "<bound method Series.to_frame of genres\n",
       "Indie                        15858\n",
       "Action                       11319\n",
       "Casual                        8282\n",
       "Adventure                     8242\n",
       "Strategy                      6957\n",
       "Simulation                    6699\n",
       "RPG                           5479\n",
       "Free to Play                  2031\n",
       "Early Access                  1462\n",
       "Sports                        1257\n",
       "Massively Multiplayer         1108\n",
       "Racing                        1083\n",
       "Design &amp; Illustration      460\n",
       "Utilities                      340\n",
       "Web Publishing                 268\n",
       "Animation &amp; Modeling       183\n",
       "Education                      125\n",
       "Video Production               116\n",
       "Software Training              105\n",
       "Audio Production                93\n",
       "Photo Editing                   77\n",
       "Accounting                       7\n",
       "Name: count, dtype: int64>"
      ]
     },
     "execution_count": 12,
     "metadata": {},
     "output_type": "execute_result"
    }
   ],
   "source": [
    "#contabilizamos los generos en la columna generos\n",
    "generos= games['genres'].value_counts()\n",
    "generos.to_frame"
   ]
  },
  {
   "cell_type": "code",
   "execution_count": 21,
   "metadata": {},
   "outputs": [
    {
     "name": "stderr",
     "output_type": "stream",
     "text": [
      "c:\\Users\\Potato\\AppData\\Local\\Programs\\Python\\Python311\\Lib\\site-packages\\seaborn\\_oldcore.py:1498: FutureWarning: is_categorical_dtype is deprecated and will be removed in a future version. Use isinstance(dtype, CategoricalDtype) instead\n",
      "  if pd.api.types.is_categorical_dtype(vector):\n",
      "c:\\Users\\Potato\\AppData\\Local\\Programs\\Python\\Python311\\Lib\\site-packages\\seaborn\\_oldcore.py:1498: FutureWarning: is_categorical_dtype is deprecated and will be removed in a future version. Use isinstance(dtype, CategoricalDtype) instead\n",
      "  if pd.api.types.is_categorical_dtype(vector):\n",
      "c:\\Users\\Potato\\AppData\\Local\\Programs\\Python\\Python311\\Lib\\site-packages\\seaborn\\_oldcore.py:1498: FutureWarning: is_categorical_dtype is deprecated and will be removed in a future version. Use isinstance(dtype, CategoricalDtype) instead\n",
      "  if pd.api.types.is_categorical_dtype(vector):\n"
     ]
    },
    {
     "data": {
      "image/png": "[encoded data removed]",
      "text/plain": [
       "<Figure size 600x400 with 1 Axes>"
      ]
     },
     "metadata": {},
     "output_type": "display_data"
    }
   ],
   "source": [
    "plt.figure(figsize=(6,4))\n",
    "sns.countplot(data=games, y ='genres', palette=('dark'))\n",
    "plt.show()"
   ]
  },
  {
   "cell_type": "markdown",
   "metadata": {},
   "source": [
    "**Conclusión**\n",
    "\n",
    "Como podemos ver los generos 'Indie' y 'Action' son los más repetidos, posterior a ellos están los generos 'Casual' y 'Adventure'"
   ]
  },
  {
   "cell_type": "code",
   "execution_count": 22,
   "metadata": {},
   "outputs": [
    {
     "data": {
      "text/plain": [
       "28850"
      ]
     },
     "execution_count": 22,
     "metadata": {},
     "output_type": "execute_result"
    }
   ],
   "source": [
    "# comprobamos la cantidad de juegos unicos en la plataforma\n",
    "len(games['item_id'].unique())"
   ]
  },
  {
   "cell_type": "markdown",
   "metadata": {},
   "source": [
    "Comprobamos si en año hay datos mal cargados"
   ]
  },
  {
   "cell_type": "code",
   "execution_count": 30,
   "metadata": {},
   "outputs": [
    {
     "data": {
      "text/plain": [
       "Año\n",
       "2017        25199\n",
       "2016        17693\n",
       "2015        12272\n",
       "2014         6367\n",
       "2013         3017\n",
       "2012         2107\n",
       "2011          987\n",
       "2010          663\n",
       "2018          499\n",
       "2009          492\n",
       "sin dato      338\n",
       "2008          332\n",
       "2007          259\n",
       "2006          217\n",
       "2005          139\n",
       "2003          118\n",
       "2001          109\n",
       "2004           92\n",
       "1999           80\n",
       "1998           75\n",
       "1997           64\n",
       "2002           62\n",
       "1996           56\n",
       "2000           55\n",
       "1994           52\n",
       "1995           49\n",
       "1993           40\n",
       "1992           24\n",
       "1991           22\n",
       "1990           14\n",
       "2019           13\n",
       "1989           11\n",
       "1988            9\n",
       "1984            5\n",
       "1987            5\n",
       "1986            5\n",
       "1983            3\n",
       "2021            3\n",
       "1985            1\n",
       "Name: count, dtype: int64"
      ]
     },
     "execution_count": 30,
     "metadata": {},
     "output_type": "execute_result"
    }
   ],
   "source": [
    "games['Año'].value_counts()"
   ]
  },
  {
   "cell_type": "code",
   "execution_count": 29,
   "metadata": {},
   "outputs": [],
   "source": [
    "#eliminamos la fila con el dato erroneo, ya que podría generar una distorsión en el analisis\n",
    "año= '5275'\n",
    "games= games.drop(games[games['Año'] == '5275'].index)"
   ]
  },
  {
   "cell_type": "code",
   "execution_count": 33,
   "metadata": {},
   "outputs": [
    {
     "name": "stderr",
     "output_type": "stream",
     "text": [
      "c:\\Users\\Potato\\AppData\\Local\\Programs\\Python\\Python311\\Lib\\site-packages\\seaborn\\_oldcore.py:1498: FutureWarning: is_categorical_dtype is deprecated and will be removed in a future version. Use isinstance(dtype, CategoricalDtype) instead\n",
      "  if pd.api.types.is_categorical_dtype(vector):\n",
      "c:\\Users\\Potato\\AppData\\Local\\Programs\\Python\\Python311\\Lib\\site-packages\\seaborn\\_oldcore.py:1498: FutureWarning: is_categorical_dtype is deprecated and will be removed in a future version. Use isinstance(dtype, CategoricalDtype) instead\n",
      "  if pd.api.types.is_categorical_dtype(vector):\n",
      "c:\\Users\\Potato\\AppData\\Local\\Programs\\Python\\Python311\\Lib\\site-packages\\seaborn\\_oldcore.py:1498: FutureWarning: is_categorical_dtype is deprecated and will be removed in a future version. Use isinstance(dtype, CategoricalDtype) instead\n",
      "  if pd.api.types.is_categorical_dtype(vector):\n"
     ]
    },
    {
     "data": {
      "image/png": "[encoded data removed]",
      "text/plain": [
       "<Figure size 1400x500 with 1 Axes>"
      ]
     },
     "metadata": {},
     "output_type": "display_data"
    }
   ],
   "source": [
    "# ordenamos los datos para poder graficarlos\n",
    "años = games['Año'].value_counts()\n",
    "años = años.reindex(['sin dato'] + list(años.index))\n",
    "años = años.sort_index()\n",
    "\n",
    "plt.figure(figsize=(14,5))\n",
    "sns.barplot(x= años.index, y=años.values, palette='dark')\n",
    "plt.xlabel('Año de Estreno')\n",
    "plt.ylabel('Total de juegos')\n",
    "plt.title('Total de juegos por año de estreno')\n",
    "plt.xticks(rotation= 45,ha='right')\n",
    "plt.tight_layout()\n",
    "plt.show() "
   ]
  },
  {
   "cell_type": "markdown",
   "metadata": {},
   "source": [
    "**Conclusión** \n",
    "\n",
    "Como podemos ver en el 2017 se encuentra la mayor cantidad de estrenos y entre los años 2012 y 2017 hay una mayor concentración de estrenos"
   ]
  },
  {
   "cell_type": "code",
   "execution_count": 34,
   "metadata": {},
   "outputs": [
    {
     "name": "stderr",
     "output_type": "stream",
     "text": [
      "c:\\Users\\Potato\\AppData\\Local\\Programs\\Python\\Python311\\Lib\\site-packages\\seaborn\\_oldcore.py:1498: FutureWarning: is_categorical_dtype is deprecated and will be removed in a future version. Use isinstance(dtype, CategoricalDtype) instead\n",
      "  if pd.api.types.is_categorical_dtype(vector):\n",
      "c:\\Users\\Potato\\AppData\\Local\\Programs\\Python\\Python311\\Lib\\site-packages\\seaborn\\_oldcore.py:1498: FutureWarning: is_categorical_dtype is deprecated and will be removed in a future version. Use isinstance(dtype, CategoricalDtype) instead\n",
      "  if pd.api.types.is_categorical_dtype(vector):\n",
      "c:\\Users\\Potato\\AppData\\Local\\Programs\\Python\\Python311\\Lib\\site-packages\\seaborn\\_oldcore.py:1119: FutureWarning: use_inf_as_na option is deprecated and will be removed in a future version. Convert inf values to NaN before operating instead.\n",
      "  with pd.option_context('mode.use_inf_as_na', True):\n",
      "c:\\Users\\Potato\\AppData\\Local\\Programs\\Python\\Python311\\Lib\\site-packages\\seaborn\\_oldcore.py:1119: FutureWarning: use_inf_as_na option is deprecated and will be removed in a future version. Convert inf values to NaN before operating instead.\n",
      "  with pd.option_context('mode.use_inf_as_na', True):\n"
     ]
    },
    {
     "data": {
      "text/plain": [
       "<function matplotlib.pyplot.show(close=None, block=None)>"
      ]
     },
     "execution_count": 34,
     "metadata": {},
     "output_type": "execute_result"
    },
    {
     "data": {
      "image/png": "[encoded data removed]",
      "text/plain": [
       "<Figure size 2000x600 with 1 Axes>"
      ]
     },
     "metadata": {},
     "output_type": "display_data"
    }
   ],
   "source": [
    "#graficamos la columna de precios para verificar si encontramos outliers\n",
    "plt.figure(figsize=(20,6))\n",
    "sns.lineplot(games['price'])\n",
    "plt.title('Distribución de precios')\n",
    "plt.xlabel('Precio')\n",
    "plt.ylabel('Juegos')\n",
    "plt.show"
   ]
  },
  {
   "cell_type": "code",
   "execution_count": 35,
   "metadata": {},
   "outputs": [
    {
     "name": "stderr",
     "output_type": "stream",
     "text": [
      "c:\\Users\\Potato\\AppData\\Local\\Programs\\Python\\Python311\\Lib\\site-packages\\seaborn\\_oldcore.py:1498: FutureWarning: is_categorical_dtype is deprecated and will be removed in a future version. Use isinstance(dtype, CategoricalDtype) instead\n",
      "  if pd.api.types.is_categorical_dtype(vector):\n"
     ]
    },
    {
     "data": {
      "image/png": "[encoded data removed]",
      "text/plain": [
       "<Figure size 1000x600 with 1 Axes>"
      ]
     },
     "metadata": {},
     "output_type": "display_data"
    }
   ],
   "source": [
    "plt.figure(figsize=(10,6))\n",
    "sns.boxplot(x=games['price'])\n",
    "plt.title('Distribución de precios')\n",
    "plt.xlabel('Precio')\n",
    "plt.ylabel('juegos')\n",
    "plt.show()"
   ]
  },
  {
   "cell_type": "code",
   "execution_count": 38,
   "metadata": {},
   "outputs": [
    {
     "data": {
      "text/html": [
       "<div>\n",
       "<style scoped>\n",
       "    .dataframe tbody tr th:only-of-type {\n",
       "        vertical-align: middle;\n",
       "    }\n",
       "\n",
       "    .dataframe tbody tr th {\n",
       "        vertical-align: top;\n",
       "    }\n",
       "\n",
       "    .dataframe thead th {\n",
       "        text-align: right;\n",
       "    }\n",
       "</style>\n",
       "<table border=\"1\" class=\"dataframe\">\n",
       "  <thead>\n",
       "    <tr style=\"text-align: right;\">\n",
       "      <th></th>\n",
       "      <th>genres</th>\n",
       "      <th>release_date</th>\n",
       "      <th>price</th>\n",
       "      <th>early_access</th>\n",
       "      <th>item_id</th>\n",
       "      <th>Año</th>\n",
       "      <th>app_name</th>\n",
       "      <th>title</th>\n",
       "      <th>developer</th>\n",
       "    </tr>\n",
       "  </thead>\n",
       "  <tbody>\n",
       "    <tr>\n",
       "      <th>26776</th>\n",
       "      <td>Animation &amp;amp; Modeling</td>\n",
       "      <td>2017-10-26</td>\n",
       "      <td>995.00</td>\n",
       "      <td>False</td>\n",
       "      <td>719000</td>\n",
       "      <td>2017</td>\n",
       "      <td>Strata Spaces VR – Professional Edition Upgrade</td>\n",
       "      <td>Strata Spaces VR – Professional Edition Upgrade</td>\n",
       "      <td>Strata Mixed Reality, Inc.</td>\n",
       "    </tr>\n",
       "    <tr>\n",
       "      <th>26777</th>\n",
       "      <td>Design &amp;amp; Illustration</td>\n",
       "      <td>2017-10-26</td>\n",
       "      <td>995.00</td>\n",
       "      <td>False</td>\n",
       "      <td>719000</td>\n",
       "      <td>2017</td>\n",
       "      <td>Strata Spaces VR – Professional Edition Upgrade</td>\n",
       "      <td>Strata Spaces VR – Professional Edition Upgrade</td>\n",
       "      <td>Strata Mixed Reality, Inc.</td>\n",
       "    </tr>\n",
       "    <tr>\n",
       "      <th>4411</th>\n",
       "      <td>Simulation</td>\n",
       "      <td>2014-07-14</td>\n",
       "      <td>771.71</td>\n",
       "      <td>False</td>\n",
       "      <td>292180</td>\n",
       "      <td>2014</td>\n",
       "      <td>X-Plane 10 Global - 64 Bit</td>\n",
       "      <td>X-Plane 10 Global - 64 Bit</td>\n",
       "      <td>Laminar Research</td>\n",
       "    </tr>\n",
       "    <tr>\n",
       "      <th>32028</th>\n",
       "      <td>Animation &amp;amp; Modeling</td>\n",
       "      <td>2017-11-06</td>\n",
       "      <td>499.99</td>\n",
       "      <td>False</td>\n",
       "      <td>691560</td>\n",
       "      <td>2017</td>\n",
       "      <td>CUR3D Maker Edition - Permission for commercia...</td>\n",
       "      <td>CUR3D Maker Edition - Permission for commercia...</td>\n",
       "      <td>RUHRSOURCE GmbH</td>\n",
       "    </tr>\n",
       "    <tr>\n",
       "      <th>32029</th>\n",
       "      <td>Design &amp;amp; Illustration</td>\n",
       "      <td>2017-11-06</td>\n",
       "      <td>499.99</td>\n",
       "      <td>False</td>\n",
       "      <td>691560</td>\n",
       "      <td>2017</td>\n",
       "      <td>CUR3D Maker Edition - Permission for commercia...</td>\n",
       "      <td>CUR3D Maker Edition - Permission for commercia...</td>\n",
       "      <td>RUHRSOURCE GmbH</td>\n",
       "    </tr>\n",
       "  </tbody>\n",
       "</table>\n",
       "</div>"
      ],
      "text/plain": [
       "                          genres release_date   price  early_access  item_id  \\\n",
       "26776   Animation &amp; Modeling   2017-10-26  995.00         False   719000   \n",
       "26777  Design &amp; Illustration   2017-10-26  995.00         False   719000   \n",
       "4411                  Simulation   2014-07-14  771.71         False   292180   \n",
       "32028   Animation &amp; Modeling   2017-11-06  499.99         False   691560   \n",
       "32029  Design &amp; Illustration   2017-11-06  499.99         False   691560   \n",
       "\n",
       "        Año                                           app_name  \\\n",
       "26776  2017    Strata Spaces VR – Professional Edition Upgrade   \n",
       "26777  2017    Strata Spaces VR – Professional Edition Upgrade   \n",
       "4411   2014                         X-Plane 10 Global - 64 Bit   \n",
       "32028  2017  CUR3D Maker Edition - Permission for commercia...   \n",
       "32029  2017  CUR3D Maker Edition - Permission for commercia...   \n",
       "\n",
       "                                                   title  \\\n",
       "26776    Strata Spaces VR – Professional Edition Upgrade   \n",
       "26777    Strata Spaces VR – Professional Edition Upgrade   \n",
       "4411                          X-Plane 10 Global - 64 Bit   \n",
       "32028  CUR3D Maker Edition - Permission for commercia...   \n",
       "32029  CUR3D Maker Edition - Permission for commercia...   \n",
       "\n",
       "                        developer  \n",
       "26776  Strata Mixed Reality, Inc.  \n",
       "26777  Strata Mixed Reality, Inc.  \n",
       "4411             Laminar Research  \n",
       "32028             RUHRSOURCE GmbH  \n",
       "32029             RUHRSOURCE GmbH  "
      ]
     },
     "execution_count": 38,
     "metadata": {},
     "output_type": "execute_result"
    }
   ],
   "source": [
    "# al detectar algunos outliers pasamos a analizarlos en el siiguiente codigo\n",
    "outlier= games.nlargest(5,'price')\n",
    "outlier"
   ]
  },
  {
   "cell_type": "markdown",
   "metadata": {},
   "source": [
    "**Conclusión** \n",
    "\n",
    "Como podemos ver en la anterior tabla los 'outliers' que se ven en el grafico solamente se deben a el valor elevado de los juegos"
   ]
  },
  {
   "cell_type": "markdown",
   "metadata": {},
   "source": [
    "Extraemos el dataset 'reviews_analysis.parquet' para su respectivo analisis "
   ]
  },
  {
   "cell_type": "code",
   "execution_count": 39,
   "metadata": {},
   "outputs": [
    {
     "data": {
      "text/html": [
       "<div>\n",
       "<style scoped>\n",
       "    .dataframe tbody tr th:only-of-type {\n",
       "        vertical-align: middle;\n",
       "    }\n",
       "\n",
       "    .dataframe tbody tr th {\n",
       "        vertical-align: top;\n",
       "    }\n",
       "\n",
       "    .dataframe thead th {\n",
       "        text-align: right;\n",
       "    }\n",
       "</style>\n",
       "<table border=\"1\" class=\"dataframe\">\n",
       "  <thead>\n",
       "    <tr style=\"text-align: right;\">\n",
       "      <th></th>\n",
       "      <th>user_id</th>\n",
       "      <th>item_id</th>\n",
       "      <th>posted</th>\n",
       "      <th>recommend</th>\n",
       "      <th>sentiment_analysis</th>\n",
       "    </tr>\n",
       "  </thead>\n",
       "  <tbody>\n",
       "    <tr>\n",
       "      <th>0</th>\n",
       "      <td>76561197970982479</td>\n",
       "      <td>1250</td>\n",
       "      <td>2011-11-05</td>\n",
       "      <td>True</td>\n",
       "      <td>2</td>\n",
       "    </tr>\n",
       "    <tr>\n",
       "      <th>1</th>\n",
       "      <td>76561197970982479</td>\n",
       "      <td>22200</td>\n",
       "      <td>2011-07-15</td>\n",
       "      <td>True</td>\n",
       "      <td>2</td>\n",
       "    </tr>\n",
       "    <tr>\n",
       "      <th>2</th>\n",
       "      <td>76561197970982479</td>\n",
       "      <td>43110</td>\n",
       "      <td>2011-04-21</td>\n",
       "      <td>True</td>\n",
       "      <td>2</td>\n",
       "    </tr>\n",
       "    <tr>\n",
       "      <th>3</th>\n",
       "      <td>js41637</td>\n",
       "      <td>251610</td>\n",
       "      <td>2014-06-24</td>\n",
       "      <td>True</td>\n",
       "      <td>2</td>\n",
       "    </tr>\n",
       "    <tr>\n",
       "      <th>4</th>\n",
       "      <td>js41637</td>\n",
       "      <td>227300</td>\n",
       "      <td>2013-09-08</td>\n",
       "      <td>True</td>\n",
       "      <td>0</td>\n",
       "    </tr>\n",
       "    <tr>\n",
       "      <th>...</th>\n",
       "      <td>...</td>\n",
       "      <td>...</td>\n",
       "      <td>...</td>\n",
       "      <td>...</td>\n",
       "      <td>...</td>\n",
       "    </tr>\n",
       "    <tr>\n",
       "      <th>59156</th>\n",
       "      <td>Fuckfhaisjnsnsjakaka</td>\n",
       "      <td>70</td>\n",
       "      <td>None</td>\n",
       "      <td>True</td>\n",
       "      <td>2</td>\n",
       "    </tr>\n",
       "    <tr>\n",
       "      <th>59157</th>\n",
       "      <td>3214213216</td>\n",
       "      <td>362890</td>\n",
       "      <td>None</td>\n",
       "      <td>True</td>\n",
       "      <td>2</td>\n",
       "    </tr>\n",
       "    <tr>\n",
       "      <th>59158</th>\n",
       "      <td>ChrisCoroner</td>\n",
       "      <td>273110</td>\n",
       "      <td>None</td>\n",
       "      <td>True</td>\n",
       "      <td>2</td>\n",
       "    </tr>\n",
       "    <tr>\n",
       "      <th>59159</th>\n",
       "      <td>CaptainAmericaCw</td>\n",
       "      <td>730</td>\n",
       "      <td>None</td>\n",
       "      <td>True</td>\n",
       "      <td>2</td>\n",
       "    </tr>\n",
       "    <tr>\n",
       "      <th>59160</th>\n",
       "      <td>76561198267374962</td>\n",
       "      <td>440</td>\n",
       "      <td>None</td>\n",
       "      <td>True</td>\n",
       "      <td>2</td>\n",
       "    </tr>\n",
       "  </tbody>\n",
       "</table>\n",
       "<p>59161 rows × 5 columns</p>\n",
       "</div>"
      ],
      "text/plain": [
       "                    user_id  item_id      posted  recommend  \\\n",
       "0         76561197970982479     1250  2011-11-05       True   \n",
       "1         76561197970982479    22200  2011-07-15       True   \n",
       "2         76561197970982479    43110  2011-04-21       True   \n",
       "3                   js41637   251610  2014-06-24       True   \n",
       "4                   js41637   227300  2013-09-08       True   \n",
       "...                     ...      ...         ...        ...   \n",
       "59156  Fuckfhaisjnsnsjakaka       70        None       True   \n",
       "59157            3214213216   362890        None       True   \n",
       "59158          ChrisCoroner   273110        None       True   \n",
       "59159      CaptainAmericaCw      730        None       True   \n",
       "59160     76561198267374962      440        None       True   \n",
       "\n",
       "       sentiment_analysis  \n",
       "0                       2  \n",
       "1                       2  \n",
       "2                       2  \n",
       "3                       2  \n",
       "4                       0  \n",
       "...                   ...  \n",
       "59156                   2  \n",
       "59157                   2  \n",
       "59158                   2  \n",
       "59159                   2  \n",
       "59160                   2  \n",
       "\n",
       "[59161 rows x 5 columns]"
      ]
     },
     "execution_count": 39,
     "metadata": {},
     "output_type": "execute_result"
    }
   ],
   "source": [
    "reviews = pd.read_parquet('Archivos/reviews_analysis.parquet')\n",
    "reviews"
   ]
  },
  {
   "cell_type": "code",
   "execution_count": 40,
   "metadata": {},
   "outputs": [],
   "source": [
    "#transformamos la fecha de posteo a tipo datetime para analizarlo en un grafico\n",
    "reviews['posted'] = pd.to_datetime(reviews['posted'])"
   ]
  },
  {
   "cell_type": "code",
   "execution_count": 43,
   "metadata": {},
   "outputs": [
    {
     "name": "stderr",
     "output_type": "stream",
     "text": [
      "c:\\Users\\Potato\\AppData\\Local\\Programs\\Python\\Python311\\Lib\\site-packages\\seaborn\\_oldcore.py:1498: FutureWarning: is_categorical_dtype is deprecated and will be removed in a future version. Use isinstance(dtype, CategoricalDtype) instead\n",
      "  if pd.api.types.is_categorical_dtype(vector):\n",
      "c:\\Users\\Potato\\AppData\\Local\\Programs\\Python\\Python311\\Lib\\site-packages\\seaborn\\_oldcore.py:1498: FutureWarning: is_categorical_dtype is deprecated and will be removed in a future version. Use isinstance(dtype, CategoricalDtype) instead\n",
      "  if pd.api.types.is_categorical_dtype(vector):\n",
      "c:\\Users\\Potato\\AppData\\Local\\Programs\\Python\\Python311\\Lib\\site-packages\\seaborn\\_oldcore.py:1498: FutureWarning: is_categorical_dtype is deprecated and will be removed in a future version. Use isinstance(dtype, CategoricalDtype) instead\n",
      "  if pd.api.types.is_categorical_dtype(vector):\n"
     ]
    },
    {
     "data": {
      "image/png": "[encoded data removed]",
      "text/plain": [
       "<Figure size 1500x500 with 1 Axes>"
      ]
     },
     "metadata": {},
     "output_type": "display_data"
    }
   ],
   "source": [
    "reviews['año'] = reviews['posted'].dt.year\n",
    "plt.figure(figsize=(15,5))\n",
    "plt.subplot(1,2,1)\n",
    "plt.title('Histograma de fechas de posteo')\n",
    "sns.countplot(data=reviews, x= 'año', palette='dark')\n",
    "plt.show()"
   ]
  },
  {
   "cell_type": "markdown",
   "metadata": {},
   "source": [
    "**Conclusión**\n",
    "\n",
    "como vemos en el gráfico el año con mayor posteos es el 2014\n"
   ]
  },
  {
   "cell_type": "code",
   "execution_count": 44,
   "metadata": {},
   "outputs": [
    {
     "data": {
      "image/png": "[encoded data removed]",
      "text/plain": [
       "<Figure size 800x600 with 1 Axes>"
      ]
     },
     "metadata": {},
     "output_type": "display_data"
    }
   ],
   "source": [
    "#realizamos un gráfico para la columna sentiment_analysis\n",
    "sentiment= reviews['sentiment_analysis'].value_counts()\n",
    "\n",
    "plt.figure(figsize=(8,6))\n",
    "plt.pie(sentiment, labels= sentiment.index, autopct='%1.1f%%', startangle= 140)\n",
    "plt.title('Análisis de sentimientos')\n",
    "plt.axis('equal') #nos aseguramos que el gráfico se muestre como un círculo\n",
    "plt.show()"
   ]
  },
  {
   "cell_type": "markdown",
   "metadata": {},
   "source": [
    "**Conclusión**\n",
    "\n",
    "Observamos que más del 50% de los reviews son positivos y los negativos y neutros se dividen entre casi un 20% cada uno "
   ]
  },
  {
   "cell_type": "markdown",
   "metadata": {},
   "source": [
    "### Preparamos los dataset para el modelado de recomendación"
   ]
  },
  {
   "cell_type": "code",
   "execution_count": 46,
   "metadata": {},
   "outputs": [
    {
     "data": {
      "text/html": [
       "<div>\n",
       "<style scoped>\n",
       "    .dataframe tbody tr th:only-of-type {\n",
       "        vertical-align: middle;\n",
       "    }\n",
       "\n",
       "    .dataframe tbody tr th {\n",
       "        vertical-align: top;\n",
       "    }\n",
       "\n",
       "    .dataframe thead th {\n",
       "        text-align: right;\n",
       "    }\n",
       "</style>\n",
       "<table border=\"1\" class=\"dataframe\">\n",
       "  <thead>\n",
       "    <tr style=\"text-align: right;\">\n",
       "      <th></th>\n",
       "      <th>item_id</th>\n",
       "      <th>app_name</th>\n",
       "      <th>genres</th>\n",
       "    </tr>\n",
       "  </thead>\n",
       "  <tbody>\n",
       "    <tr>\n",
       "      <th>0</th>\n",
       "      <td>761140</td>\n",
       "      <td>Lost Summoner Kitty</td>\n",
       "      <td>Action</td>\n",
       "    </tr>\n",
       "    <tr>\n",
       "      <th>1</th>\n",
       "      <td>761140</td>\n",
       "      <td>Lost Summoner Kitty</td>\n",
       "      <td>Casual</td>\n",
       "    </tr>\n",
       "  </tbody>\n",
       "</table>\n",
       "</div>"
      ],
      "text/plain": [
       "   item_id             app_name  genres\n",
       "0   761140  Lost Summoner Kitty  Action\n",
       "1   761140  Lost Summoner Kitty  Casual"
      ]
     },
     "execution_count": 46,
     "metadata": {},
     "output_type": "execute_result"
    }
   ],
   "source": [
    "#creamos un dataframe con las columnas a utilizar\n",
    "modelo = games[['item_id','app_name','genres']]\n",
    "modelo.head(2)"
   ]
  },
  {
   "cell_type": "code",
   "execution_count": 47,
   "metadata": {},
   "outputs": [
    {
     "name": "stdout",
     "output_type": "stream",
     "text": [
      "<class 'pandas.core.frame.DataFrame'>\n",
      "Index: 71548 entries, 0 to 71550\n",
      "Data columns (total 3 columns):\n",
      " #   Column    Non-Null Count  Dtype \n",
      "---  ------    --------------  ----- \n",
      " 0   item_id   71548 non-null  int64 \n",
      " 1   app_name  71548 non-null  object\n",
      " 2   genres    71548 non-null  object\n",
      "dtypes: int64(1), object(2)\n",
      "memory usage: 2.2+ MB\n"
     ]
    }
   ],
   "source": [
    "modelo.info()"
   ]
  },
  {
   "cell_type": "code",
   "execution_count": 48,
   "metadata": {},
   "outputs": [],
   "source": [
    "#guardamos el archivo para su posterior uso\n",
    "modelo.to_csv('Archivos/modelo.csv', index=False)"
   ]
  },
  {
   "cell_type": "code",
   "execution_count": 49,
   "metadata": {},
   "outputs": [],
   "source": [
    "model = pd.read_csv('Archivos/modelo.csv')"
   ]
  },
  {
   "cell_type": "code",
   "execution_count": 51,
   "metadata": {},
   "outputs": [],
   "source": [
    "model.to_parquet('Archivos/model.parquet')"
   ]
  }
 ],
 "metadata": {
  "kernelspec": {
   "display_name": "Python 3",
   "language": "python",
   "name": "python3"
  },
  "language_info": {
   "codemirror_mode": {
    "name": "ipython",
    "version": 3
   },
   "file_extension": ".py",
   "mimetype": "text/x-python",
   "name": "python",
   "nbconvert_exporter": "python",
   "pygments_lexer": "ipython3",
   "version": "3.11.2"
  }
 },
 "nbformat": 4,
 "nbformat_minor": 2
}
